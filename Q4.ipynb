{
 "cells": [
  {
   "cell_type": "code",
   "execution_count": 1,
   "metadata": {},
   "outputs": [],
   "source": [
    "import numpy as np"
   ]
  },
  {
   "cell_type": "code",
   "execution_count": 2,
   "metadata": {},
   "outputs": [],
   "source": [
    "np.random.seed(0)"
   ]
  },
  {
   "cell_type": "code",
   "execution_count": 3,
   "metadata": {},
   "outputs": [],
   "source": [
    "import matplotlib.pylab as plt\n",
    "%matplotlib inline"
   ]
  },
  {
   "cell_type": "raw",
   "metadata": {},
   "source": [
    "for i in range(4):\n",
    "    mu = 0\n",
    "    sigma = 1\n",
    "    x = np.random.normal(mu, sigma, 100)\n",
    "    y = []\n",
    "    for j in range(100):\n",
    "        generated = np.random.logistic()\n",
    "        if generated > 0:\n",
    "            sign = +1\n",
    "        else:\n",
    "            sign = -1\n",
    "        xj = x[j]\n",
    "        z = xj*sign\n",
    "        y.append(z)\n",
    "    intercept, slope = np.polynomial.polynomial.polyfit(x, y, 1)\n",
    "    abline_values = [slope * i + intercept for i in x]\n",
    "    plt.figure(i)\n",
    "    plt.subplot()\n",
    "    plt.scatter(x,y)\n",
    "    plt.scatter(x,abline_values)"
   ]
  },
  {
   "cell_type": "code",
   "execution_count": null,
   "metadata": {},
   "outputs": [],
   "source": []
  },
  {
   "cell_type": "code",
   "execution_count": null,
   "metadata": {},
   "outputs": [],
   "source": []
  }
 ],
 "metadata": {
  "kernelspec": {
   "display_name": "Python 2",
   "language": "python",
   "name": "python2"
  },
  "language_info": {
   "codemirror_mode": {
    "name": "ipython",
    "version": 2
   },
   "file_extension": ".py",
   "mimetype": "text/x-python",
   "name": "python",
   "nbconvert_exporter": "python",
   "pygments_lexer": "ipython2",
   "version": "2.7.14"
  }
 },
 "nbformat": 4,
 "nbformat_minor": 2
}
